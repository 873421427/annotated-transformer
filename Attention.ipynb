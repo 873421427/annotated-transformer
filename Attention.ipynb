{
 "cells": [
  {
   "cell_type": "markdown",
   "metadata": {},
   "source": [
    "# The Annotated \"Attention is All You Need\""
   ]
  },
  {
   "cell_type": "markdown",
   "metadata": {},
   "source": [
    "# Abstract \n",
    "The dominant sequence transduction models are based on complex recurrent or convolutional neural networks that include an encoder and a decoder. The best performing models also connect the encoder and decoder through an attention mechanism. We propose a new simple network architecture, the Transformer, based solely on attention mechanisms, dispensing with recurrence and convolutions entirely. Experiments on two machine translation tasks show these models to be superior in quality while being  more parallelizable and requiring significantly less time to train. Our model achieves 28.4 BLEU on the WMT 2014 English-to-German translation task, improving over the existing best results, including ensembles, by over 2 BLEU.  On the WMT 2014 English-to-French translation task, our model establishes a new single-model state-of-the-art BLEU score of 41.8 after training for 3.5 days on eight GPUs, a small fraction of the training costs of the best models from the literature. We show that the Transformer generalizes well to other tasks by applying it successfully to English constituency parsing  both with large and limited training data."
   ]
  },
  {
   "cell_type": "markdown",
   "metadata": {},
   "source": [
    "<img src=\"ModalNet-21.png\" width=400px>"
   ]
  },
  {
   "cell_type": "markdown",
   "metadata": {},
   "source": [
    "# Model"
   ]
  },
  {
   "cell_type": "markdown",
   "metadata": {},
   "source": [
    "Most competitive neural sequence transduction models have an encoder-decoder structure \\citep{cho2014learning,bahdanau2014neural,sutskever14}. Here, the encoder maps an input sequence of symbol representations\\\n",
    " $(x_1, ..., x_n)$ to a sequence of continuous representations $\\mathbf{z} = (z_1, ..., z_n)$. Given $\\mathbf{z}$, the decoder then generates an output sequence $(y_1,...,y_m)$ of symbols one element at a time. At each step the model is auto-regressive \\citep{graves2013generating}, consuming the previously generated symbols as additional input when generating the next.                                                \n",
    "                                                                                                                                                                                                                  \n",
    "The Transformer follows this overall architecture using stacked self-attention and point-wise, fully connected layers for both the encoder and decoder, shown in the left and right halves of Figure~\\ref{fig:mod\\\n",
    "el-arch}, respectively. "
   ]
  },
  {
   "cell_type": "code",
   "execution_count": null,
   "metadata": {
    "collapsed": true
   },
   "outputs": [],
   "source": [
    "# Load words from IWSLT"
   ]
  },
  {
   "cell_type": "markdown",
   "metadata": {},
   "source": [
    "## Encoder and Decoder Stacks                                                                                                                                                                                \n",
    "                                                                                                                                                                                                                                                                                                                     \n",
    "### Encoder: \n",
    "\n",
    "The encoder is composed of a stack of $N=6$ identical layers. Each layer has two sub-layers. The first is a multi-head self-attention mechanism, and the second is a simple, position-wise fully connected feed-forward network.   We employ a residual connection \\citep{he2016deep} around each of the two sub-layers, followed by layer normalization \\cite{layernorm2016}.  That is, the output of each sub-layer is $\\mathrm{LayerNorm}(x + \\mathrm{Sublayer}(x))$, where $\\mathrm{Sublayer}(x)$ is the function implemented by the sub-layer itself.  To facilitate these residual connections, all sub-layers in the model, as well as the embedding layers, produce outputs of dimension $d_{\\text{model}}=512$.   "
   ]
  },
  {
   "cell_type": "code",
   "execution_count": 14,
   "metadata": {
    "collapsed": false
   },
   "outputs": [
    {
     "ename": "NameError",
     "evalue": "name 'nn' is not defined",
     "output_type": "error",
     "traceback": [
      "\u001b[0;31m---------------------------------------------------------------------------\u001b[0m",
      "\u001b[0;31mNameError\u001b[0m                                 Traceback (most recent call last)",
      "\u001b[0;32m<ipython-input-14-ed294c37b8c2>\u001b[0m in \u001b[0;36m<module>\u001b[0;34m()\u001b[0m\n\u001b[1;32m      1\u001b[0m \u001b[0;31m# Encoder Model\u001b[0m\u001b[0;34m\u001b[0m\u001b[0;34m\u001b[0m\u001b[0m\n\u001b[0;32m----> 2\u001b[0;31m \u001b[0;32mclass\u001b[0m \u001b[0mTransformerEncoder\u001b[0m\u001b[0;34m(\u001b[0m\u001b[0mnn\u001b[0m\u001b[0;34m.\u001b[0m\u001b[0mModule\u001b[0m\u001b[0;34m)\u001b[0m\u001b[0;34m:\u001b[0m\u001b[0;34m\u001b[0m\u001b[0m\n\u001b[0m\u001b[1;32m      3\u001b[0m     def __init__(self, num_layers, hidden_size,\n\u001b[1;32m      4\u001b[0m                  dropout, embeddings):\n\u001b[1;32m      5\u001b[0m         \u001b[0msuper\u001b[0m\u001b[0;34m(\u001b[0m\u001b[0mTransformerEncoder\u001b[0m\u001b[0;34m,\u001b[0m \u001b[0mself\u001b[0m\u001b[0;34m)\u001b[0m\u001b[0;34m.\u001b[0m\u001b[0m__init__\u001b[0m\u001b[0;34m(\u001b[0m\u001b[0;34m)\u001b[0m\u001b[0;34m\u001b[0m\u001b[0m\n",
      "\u001b[0;31mNameError\u001b[0m: name 'nn' is not defined"
     ]
    }
   ],
   "source": [
    "# Encoder Model\n",
    "\n",
    "class TransformerEncoder(nn.Module):\n",
    "    def __init__(self, num_layers, hidden_size,\n",
    "                 dropout, embeddings):\n",
    "        super(TransformerEncoder, self).__init__()\n",
    "        self.layers = nn.ModuleList(\n",
    "            [TransformerEncoderLayer(hidden_size, dropout)\n",
    "             for i in range(num_layers)])\n",
    "        self.norm = onmt.modules.LayerNorm(hidden_size)\n",
    "\n",
    "    def forward(self, emb, mask):\n",
    "        out = emb\n",
    "        for layer in self.layers:\n",
    "            out = layer(out, mask)\n",
    "        return self.norm(out)"
   ]
  },
  {
   "cell_type": "code",
   "execution_count": null,
   "metadata": {
    "collapsed": true
   },
   "outputs": [],
   "source": [
    "class TransformerEncoderLayer(nn.Module):\n",
    "    def __init__(self, size, dropout,\n",
    "                 head_count=8, hidden_size=2048):\n",
    "        super(TransformerEncoderLayer, self).__init__()\n",
    "        self.self_attn = \\\n",
    "            MultiHeadedAttention(head_count, \n",
    "                                 size,\n",
    "                                 dropout=dropout)\n",
    "        self.feed_forward = \\\n",
    "            PositionwiseFeedForward(size,\n",
    "                                    hidden_size,\n",
    "                                    dropout)\n",
    "        self.norm = onmt.modules.LayerNorm(size)\n",
    "        self.dropout = nn.Dropout(dropout)\n",
    "\n",
    "    def forward(self, inputs, mask):\n",
    "        input_norm = self.norm(inputs)\n",
    "        context = self.self_attn(input_norm, \n",
    "                                 input_norm, \n",
    "                                 input_norm,\n",
    "                                 mask=mask)\n",
    "        out = self.dropout(context) + inputs\n",
    "        return self.feed_forward(self.norm(out)) + out"
   ]
  },
  {
   "cell_type": "markdown",
   "metadata": {},
   "source": [
    "### Decoder:\n",
    "\n",
    "The decoder is also composed of a stack of $N=6$ identical layers.  In addition to the two sub-layers in each encoder layer, the decoder inserts a third sub-layer, which performs multi-head attention over the output of the encoder stack.  Similar to the encoder, we employ residual connections around each of the sub-layers, followed by layer normalization.  We also modify the self-attention sub-layer in the decoder stack to prevent positions from attending to subsequent positions.  This masking, combined with fact that the output embeddings are offset by one position, ensures that the predictions for position $i$ can depend only on the known outputs at positions less than $i$.\n"
   ]
  },
  {
   "cell_type": "code",
   "execution_count": 7,
   "metadata": {
    "collapsed": true
   },
   "outputs": [],
   "source": [
    "# Decoder Model\n",
    "class TransformerDecoderLayer(nn.Module):\n",
    "    def __init__(self, size, dropout,\n",
    "                 head_count=8, hidden_size=2048):\n",
    "        super(TransformerDecoderLayer, self).__init__()\n",
    "        self.self_attn = \\\n",
    "            MultiHeadedAttention(head_count, \n",
    "                                 size, \n",
    "                                 dropout=dropout)\n",
    "        self.context_attn = \\\n",
    "            MultiHeadedAttention(head_count, \n",
    "                                size, \n",
    "                                dropout=dropout)\n",
    "        self.feed_forward = \\\n",
    "            PositionwiseFeedForward(size,\n",
    "                                    hidden_size,\n",
    "                                    dropout)\n",
    "        self.norm_1 = onmt.modules.LayerNorm(size)\n",
    "        self.norm_2 = onmt.modules.LayerNorm(size)\n",
    "        self.norm_3 = onmt.modules.LayerNorm(size)\n",
    "        self.dropout = dropout\n",
    "        self.drop = nn.Dropout(dropout)\n",
    "        mask = self._get_attn_subsequent_mask(MAX_SIZE)\n",
    "        self.register_buffer('mask', mask)\n",
    "\n",
    "    def forward(self, inputs, memory_bank, \n",
    "                src_pad_mask, tgt_pad_mask,\n",
    "                previous_input=None):\n",
    "        dec_mask = torch.gt(tgt_pad_mask +\n",
    "                            self.mask[:, :tgt_pad_mask.size(1),\n",
    "                                      :tgt_pad_mask.size(1)], 0)\n",
    "        input_norm = self.norm_1(inputs)\n",
    "        all_input = input_norm\n",
    "        if previous_input is not None:\n",
    "            all_input = torch.cat((previous_input, input_norm), dim=1)\n",
    "            dec_mask = None\n",
    "\n",
    "\n",
    "        # Sublayer 1\n",
    "        query = self.self_attn(all_input, all_input, input_norm,\n",
    "                                     mask=dec_mask)\n",
    "        query = self.drop(query) + inputs\n",
    "        query_norm = self.norm_2(query)\n",
    "\n",
    "        # Sublayer 2\n",
    "        mid = self.context_attn(memory_bank, memory_bank, query_norm,\n",
    "                                      mask=src_pad_mask)\n",
    "\n",
    "        mid_norm = self.drop(mid) + query\n",
    "        # Sublayer 3\n",
    "        output = self.feed_forward(mid_norm)\n",
    "        return output + mid\n",
    "\n",
    "    def _get_attn_subsequent_mask(self, size):\n",
    "        ''' Get an attention mask to avoid using the subsequent info.'''\n",
    "        attn_shape = (1, size, size)\n",
    "        subsequent_mask = np.triu(np.ones(attn_shape), k=1).astype('uint8')\n",
    "        subsequent_mask = torch.from_numpy(subsequent_mask)\n",
    "        return subsequent_mask"
   ]
  },
  {
   "cell_type": "code",
   "execution_count": null,
   "metadata": {
    "collapsed": true
   },
   "outputs": [],
   "source": [
    "class TransformerDecoder(nn.Module):\n",
    " \n",
    "    def __init__(self, num_layers, hidden_size, attn_type,\n",
    "                 copy_attn, dropout, embeddings):\n",
    "        super(TransformerDecoder, self).__init__()\n",
    "\n",
    "        # Basic attributes.\n",
    "        self.decoder_type = 'transformer'\n",
    "        self.num_layers = num_layers\n",
    "        self.embeddings = embeddings\n",
    "\n",
    "        # Build TransformerDecoder.\n",
    "        self.transformer_layers = nn.ModuleList(\n",
    "            [TransformerDecoderLayer(hidden_size, dropout)\n",
    "             for _ in range(num_layers)])\n",
    "\n",
    "        # TransformerDecoder has its own attention mechanism.\n",
    "        # Set up a separated copy attention layer, if needed.\n",
    "        self._copy = False\n",
    "        if copy_attn:\n",
    "            self.copy_attn = onmt.modules.GlobalAttention(\n",
    "                hidden_size, attn_type=attn_type)\n",
    "            self._copy = True\n",
    "        self.layer_norm = onmt.modules.LayerNorm(hidden_size)\n",
    "\n",
    "    def forward(self, tgt, memory_bank, state, memory_lengths=None):\n",
    "        \"\"\"\n",
    "        See :obj:`onmt.modules.RNNDecoderBase.forward()`\n",
    "        \"\"\"\n",
    "        # CHECKS\n",
    "        assert isinstance(state, TransformerDecoderState)\n",
    "        tgt_len, tgt_batch, _ = tgt.size()\n",
    "        memory_len, memory_batch, _ = memory_bank.size()\n",
    "        aeq(tgt_batch, memory_batch)\n",
    "\n",
    "        src = state.src\n",
    "        src_words = src[:, :, 0].transpose(0, 1)\n",
    "        tgt_words = tgt[:, :, 0].transpose(0, 1)\n",
    "        src_batch, src_len = src_words.size()\n",
    "        tgt_batch, tgt_len = tgt_words.size()\n",
    "        aeq(tgt_batch, memory_batch, src_batch, tgt_batch)\n",
    "        aeq(memory_len, src_len)\n",
    "\n",
    "        if state.previous_input is not None:\n",
    "            tgt = torch.cat([state.previous_input, tgt], 0)\n",
    "        # END CHECKS\n",
    "\n",
    "        # Initialize return variables.\n",
    "        outputs = []\n",
    "        attns = {\"std\": []}\n",
    "        if self._copy:\n",
    "            attns[\"copy\"] = []\n",
    "\n",
    "        # Run the forward pass of the TransformerDecoder.\n",
    "        emb = self.embeddings(tgt)\n",
    "        if state.previous_input is not None:\n",
    "            emb = emb[state.previous_input.size(0):, ]\n",
    "        assert emb.dim() == 3  # len x batch x embedding_dim\n",
    "\n",
    "        output = emb.transpose(0, 1).contiguous()\n",
    "        src_memory_bank = memory_bank.transpose(0, 1).contiguous()\n",
    "\n",
    "        padding_idx = self.embeddings.word_padding_idx\n",
    "        src_pad_mask = src_words.data.eq(padding_idx).unsqueeze(1) \\\n",
    "            .expand(src_batch, tgt_len, src_len)\n",
    "        tgt_pad_mask = tgt_words.data.eq(padding_idx).unsqueeze(1) \\\n",
    "            .expand(tgt_batch, tgt_len, tgt_len)\n",
    "\n",
    "        saved_inputs = []\n",
    "        for i in range(self.num_layers):\n",
    "            prev_layer_input = None\n",
    "            if state.previous_input is not None:\n",
    "                prev_layer_input = state.previous_layer_inputs[i]\n",
    "            output, attn, all_input \\\n",
    "                = self.transformer_layers[i](output, src_memory_bank,\n",
    "                                             src_pad_mask, tgt_pad_mask,\n",
    "                                             previous_input=prev_layer_input)\n",
    "            saved_inputs.append(all_input)\n",
    "\n",
    "        saved_inputs = torch.stack(saved_inputs)\n",
    "        output = self.layer_norm(output)\n",
    "\n",
    "        # Process the result and update the attentions.\n",
    "        outputs = output.transpose(0, 1).contiguous()\n",
    "        attn = attn.transpose(0, 1).contiguous()\n",
    "\n",
    "        attns[\"std\"] = attn\n",
    "        if self._copy:\n",
    "            attns[\"copy\"] = attn\n",
    "\n",
    "        # Update the state.\n",
    "        state = state.update_state(tgt, saved_inputs)\n",
    "        return outputs, state, attns\n",
    "\n",
    "    def init_decoder_state(self, src, memory_bank, enc_hidden):\n",
    "        return TransformerDecoderState(src)\n"
   ]
  },
  {
   "cell_type": "markdown",
   "metadata": {},
   "source": [
    "<img width=\"220px\" src=\"ModalNet-19.png\">"
   ]
  },
  {
   "cell_type": "markdown",
   "metadata": {},
   "source": [
    "### Attention:                                                                                                                                                                                                                                                                               \n",
    "An attention function can be described as mapping a query and a set of key-value pairs to an output, where the query, keys, values, and output are all vectors.  The output is computed as a weighted sum of the values, where the weight assigned to each value is computed by a compatibility function of the query with the corresponding key.                                                                                                             \n",
    "\n",
    "#### Scaled Dot-Product Attention                                                                                                                                                                               \n",
    "We call our particular attention \"Scaled Dot-Product Attention\" (Figure~\\ref{fig:multi-head-att}).   The input consists of queries and keys of dimension $d_k$, and values of dimension $d_v$.  We compute the dot products of the query with all keys, divide each by $\\sqrt{d_k}$, and apply a softmax function to obtain the weights on the values.                                                                                                         \n",
    "\n",
    "In practice, we compute the attention function on a set of queries simultaneously, packed together into a matrix $Q$.   The keys and values are also packed together into matrices $K$ and $V$.  We compute the matrix of outputs as:                      \n",
    "                                                                 \n",
    "$$                                                                         \n",
    "   \\mathrm{Attention}(Q, K, V) = \\mathrm{softmax}(\\frac{QK^T}{\\sqrt{d_k}})V               \n",
    "$$                                                                                                                                                                                                        \n",
    "The two most commonly used attention functions are additive attention \\citep{bahdanau2014neural}, and dot-product (multiplicative) attention.  Dot-product attention is identical to our algorithm, except for the scaling factor of $\\frac{1}{\\sqrt{d_k}}$. Additive attention computes the compatibility function using a feed-forward network with a single hidden layer.  While the two are similar in theoretical complexity, dot-product attention is much faster and more space-efficient in practice, since it can be implemented using highly optimized matrix multiplication code.                                                                                             \n",
    "\n",
    "                                                                        \n",
    "While for small values of $d_k$ the two mechanisms perform similarly, additive attention outperforms dot product attention without scaling for larger values of $d_k$ \\citep{DBLP:journals/corr/BritzGLL17}. We suspect that for large values of $d_k$, the dot products grow large in magnitude, pushing the softmax function into regions where it has extremely small gradients  \\footnote{To illustrate why the dot products get large, assume that the components of $q$ and $k$ are independent random variables with mean $0$ and variance $1$.  Then their dot product, $q \\cdot k = \\sum_{i=1}^{d_k} q_ik_i$, has mean $0$ and variance $d_k$.}. To counteract this effect, we scale the dot products by $\\frac{1}{\\sqrt{d_k}}$.                                                                                                                                                                               "
   ]
  },
  {
   "cell_type": "code",
   "execution_count": null,
   "metadata": {
    "collapsed": true
   },
   "outputs": [],
   "source": [
    "# Dot Product Attention\n",
    "class DotProductAttention(nn.Module):\n",
    "    def forward():\n",
    "        scores = torch.matmul(query_up, key_up.transpose(2, 3))\n",
    "\n",
    "        if mask is not None:\n",
    "            mask = mask.unsqueeze(1).expand_as(scores)\n",
    "            scores = scores.masked_fill(Variable(mask), -1e18)\n",
    "\n",
    "        # 3) Apply attention dropout and compute context vectors.\n",
    "        attn = self.sm(scores)\n",
    "        drop_attn = self.dropout(attn)\n",
    "        context = unshape(torch.matmul(drop_attn, value_up))\n"
   ]
  },
  {
   "cell_type": "markdown",
   "metadata": {},
   "source": [
    " <img width=\"220px\" src=\"ModalNet-20.png\"> "
   ]
  },
  {
   "cell_type": "markdown",
   "metadata": {},
   "source": [
    "### Multi-Head Attention                                                                                                                                                                                                                                                                                                                                                                                                                               \n",
    "                                                                                                                                                                                                                                                                                                                                                                                                                                                                                          \n",
    "Instead of performing a single attention function with $d_{\\text{model}}$-dimensional keys, values and queries, we found it beneficial to linearly project the queries, keys and values $h$ times with different, learned linear projections to $d_k$, $d_k$ and $d_v$ dimensions, respectively.                                                                                                                                                                                                   \n",
    "On each of these projected versions of queries, keys and values we then perform the attention function in parallel, yielding $d_v$-dimensional output values. These are concatenated and once again projected, resulting in the final values, as depicted in Figure~\\ref{fig:multi-head-att}.                                                                                                                                                                                             \n",
    "                                                                                                                                                                                                                                                                                                                                                                                                                                                                                          \n",
    "Multi-head attention allows the model to jointly attend to information from different representation subspaces at different positions. With a single attention head, averaging inhibits this.                                                                                                                                                                                                                                                                                             \n",
    "                                                                                                                                                                                                                                                                                                                                                                                                                                                                                          \n",
    "$$    \n",
    "\\mathrm{MultiHead}(Q, K, V) = \\mathrm{Concat}(\\mathrm{head_1}, ..., \\mathrm{head_h})W^O    \\\\                                           \n",
    "    \\text{where}~\\mathrm{head_i} = \\mathrm{Attention}(QW^Q_i, KW^K_i, VW^V_i)                                \n",
    "$$                                                                                                                                                                                                                                                                                                                                                                         \n",
    "                                                                                                                                                                                                                                                                                                                                                                                                                                                                                          \n",
    "Where the projections are parameter matrices $W^Q_i \\in \\mathbb{R}^{d_{\\text{model}} \\times d_k}$, $W^K_i \\in \\mathbb{R}^{d_{\\text{model}} \\times d_k}$, $W^V_i \\in \\mathbb{R}^{d_{\\text{model}} \\times d_v}$ and $W^O \\in \\mathbb{R}^{hd_v \\times d_{\\text{model}}}$.                                                                                                                                                                                                                                                        \n",
    "                                                                                                                                                                                                                                                                                                                                                                                                                                                                                          \n",
    "In this work we employ $h=8$ parallel attention layers, or heads. For each of these we use $d_k=d_v=d_{\\text{model}}/h=64$.                                                                                                                                                                                                                                                                                                                                                                        \n",
    "Due to the reduced dimension of each head, the total computational cost is similar to that of single-head attention with full dimensionality.   "
   ]
  },
  {
   "cell_type": "code",
   "execution_count": 8,
   "metadata": {
    "collapsed": true
   },
   "outputs": [],
   "source": [
    "# Multiheaded Attention\n",
    "class MultiHeadedAttention(nn.Module):\n",
    "    def __init__(self, head_count, model_dim, dropout=0.1):\n",
    "        assert model_dim % head_count == 0\n",
    "        self.dim_per_head = model_dim // head_count\n",
    "        self.model_dim = model_dim\n",
    "\n",
    "        super(MultiHeadedAttention, self).__init__()\n",
    "        self.head_count = head_count\n",
    "\n",
    "        self.linear_keys = \\\n",
    "            nn.Linear(model_dim,\n",
    "                      head_count * self.dim_per_head)\n",
    "        self.linear_values = \\\n",
    "            nn.Linear(model_dim,\n",
    "                      head_count * self.dim_per_head)\n",
    "        self.linear_query = \\\n",
    "            nn.Linear(model_dim,\n",
    "                      head_count * self.dim_per_head)\n",
    "\n",
    "        self.dropout = nn.Dropout(dropout)\n",
    "        self.final_linear = nn.Linear(model_dim, model_dim)\n",
    "\n",
    "    def forward(self, key, value, query, mask=None):\n",
    "        batch_size = key.size(0)\n",
    "        dim_per_head = self.dim_per_head\n",
    "        head_count = self.head_count\n",
    "        key_len = key.size(1)\n",
    "        query_len = query.size(1)\n",
    "\n",
    "        def shape(x):\n",
    "            return x.view(batch_size, -1, head_count, dim_per_head) \\\n",
    "                .transpose(1, 2)\n",
    "\n",
    "        def unshape(x):\n",
    "            return x.transpose(1, 2).contiguous() \\\n",
    "                    .view(batch_size, -1, head_count * dim_per_head)\n",
    "\n",
    "        # 1) Project key, value, and query.\n",
    "        key_up = shape(self.linear_keys(key))\n",
    "        value_up = shape(self.linear_values(value))\n",
    "        query_up = shape(self.linear_query(query))\n",
    "\n",
    "        # 2) Calculate and scale scores.\n",
    "        query_up = query_up / math.sqrt(dim_per_head)\n",
    "\n",
    "        context = self.dotproductattention(query_up, value_up, key_up)\n",
    "#         scores = torch.matmul(query_up, key_up.transpose(2, 3))\n",
    "\n",
    "#         if mask is not None:\n",
    "#             mask = mask.unsqueeze(1).expand_as(scores)\n",
    "#             scores = scores.masked_fill(Variable(mask), -1e18)\n",
    "\n",
    "        # 3) Apply attention dropout and compute context vectors.\n",
    "        attn = self.sm(scores)\n",
    "        drop_attn = self.dropout(attn)\n",
    "        context = unshape(torch.matmul(drop_attn, value_up))\n",
    "\n",
    "        output = self.final_linear(context)\n",
    "        return output"
   ]
  },
  {
   "cell_type": "markdown",
   "metadata": {},
   "source": [
    "### Applications of Attention in our Model                                                                                                                                                      \n",
    "The Transformer uses multi-head attention in three different ways:                                                        \n",
    "* In \"encoder-decoder attention\" layers, the queries come from the previous decoder layer, and the memory keys and values come from the output of the encoder.   This allows every position in the decoder to attend over all positions in the input sequence.  This mimics the typical encoder-decoder attention mechanisms in sequence-to-sequence models such as \\citep{wu2016google, bahdanau2014neural,JonasFaceNet2017}.                                                        \n",
    "* The encoder contains self-attention layers.  In a self-attention layer all of the keys, values and queries come from the same place, in this case, the output of the previous layer in the encoder.   Each position in the encoder can attend to all positions in the previous layer of the encoder.                                                                \n",
    "* Similarly, self-attention layers in the decoder allow each position in the decoder to attend to all positions in the decoder up to and including that position.  We need to prevent leftward information flow in the decoder to preserve the auto-regressive property.  We implement this inside of scaled dot-product attention by masking out (setting to $-\\infty$) all values in the input of the softmax which correspond to illegal connections.  See Figure~\\ref{fig:multi-head-att}.                                                                                                                                                                                                                                                                                                                           "
   ]
  },
  {
   "cell_type": "markdown",
   "metadata": {},
   "source": [
    "## Position-wise Feed-Forward Networks                                                                                                                                                                                                                                                                                                                                                             \n",
    "                                                                                                                                                                                                                                                                                                                                                                                                                                                                                          \n",
    "In addition to attention sub-layers, each of the layers in our encoder and decoder contains a fully connected feed-forward network, which is applied to each position separately and identically.  This consists of two linear transformations with a ReLU activation in between.\n",
    "\n",
    "$$\\mathrm{FFN}(x)=\\max(0, xW_1 + b_1) W_2 + b_2$$                                                                                                                                                                                                                                                         \n",
    "                                                                                                                                                                                                                                                        \n",
    "While the linear transformations are the same across different positions, they use different parameters from layer to layer. Another way of describing this is as two convolutions with kernel size 1.  The dimensionality of input and output is $d_{\\text{model}}=512$, and the inner-layer has dimensionality $d_{ff}=2048$. "
   ]
  },
  {
   "cell_type": "code",
   "execution_count": null,
   "metadata": {
    "collapsed": true
   },
   "outputs": [],
   "source": [
    "# Position-wise feed forward.\n",
    "\n",
    "class PositionwiseFeedForward(nn.Module):\n",
    "    def __init__(self, size, hidden_size, dropout=0.1):\n",
    "        super(PositionwiseFeedForward, self).__init__()\n",
    "        self.w_1 = nn.Linear(size, hidden_size)\n",
    "        self.w_2 = nn.Linear(hidden_size, size)\n",
    "        self.dropout_1 = nn.Dropout(dropout)\n",
    "        self.dropout_2 = nn.Dropout(dropout)\n",
    "\n",
    "    def forward(self, x):\n",
    "        inner = self.dropout_1(F.relu(self.w_1(x)))\n",
    "        output = self.dropout_2(self.w_2(inner))\n",
    "        return output"
   ]
  },
  {
   "cell_type": "markdown",
   "metadata": {},
   "source": [
    "## Embeddings and Softmax                                                                                                                                                                                                                                                                                           \n",
    "Similarly to other sequence transduction models, we use learned embeddings to convert the input tokens and output tokens to vectors of dimension $d_{\\text{model}}$.  We also use the usual learned linear transformation and softmax function to convert the decoder output to predicted next-token probabilities.  In our model, we share the same weight matrix between the two embedding layers and the pre-softmax linear transformation, similar to \\citep{press2016using}.   In the embedding layers, we multiply those weights by $\\sqrt{d_{\\text{model}}}$.                                                                                                                                     "
   ]
  },
  {
   "cell_type": "code",
   "execution_count": 9,
   "metadata": {
    "collapsed": true
   },
   "outputs": [],
   "source": [
    "# Embeddings \n",
    "class Embeddings(nn.Module):\n",
    "    def forward():\n",
    "        pass\n",
    "\n",
    "# Softmax\n",
    "class Generator(nn.Module):\n",
    "    def forward():\n",
    "        pass"
   ]
  },
  {
   "cell_type": "markdown",
   "metadata": {},
   "source": [
    "## Positional Encoding                                                                                                                             \n",
    "Since our model contains no recurrence and no convolution, in order for the model to make use of the order of the sequence, we must inject some information about the relative or absolute position of the tokens in the sequence.  To this end, we add \"positional encodings\" to the input embeddings at the bottoms of the encoder and decoder stacks.  The positional encodings have the same dimension $d_{\\text{model}}$ as the embeddings, so that the two can be summed.   There are many choices of positional encodings, learned and fixed \\citep{JonasFaceNet2017}.                                                                                                                                                                                                                                                                                                                                                \n",
    "In this work, we use sine and cosine functions of different frequencies:                                                                                                                                                                                                                                                                                                                                                                                                                                                                                                                                  \n",
    "$$                                                                                                                                                                                                                                                                                                                                                                                                                                                                            \n",
    "    PE_{(pos,2i)} = sin(pos / 10000^{2i/d_{\\text{model}}}) \\\\                                                                                                                                                                                                                                                                                                                                                                                                                                      \n",
    "    PE_{(pos,2i+1)} = cos(pos / 10000^{2i/d_{\\text{model}}})                                                                                                                                                                                                                                                                                                                                                                                                                                       \n",
    "$$                                                                                                                                                                                                                                                        \n",
    "where $pos$ is the position and $i$ is the dimension.  That is, each dimension of the positional encoding corresponds to a sinusoid.  The wavelengths form a geometric progression from $2\\pi$ to $10000 \\cdot 2\\pi$.  We chose this function because we hypothesized it would allow the model to easily learn to attend by relative positions, since for any fixed offset $k$, $PE_{pos+k}$ can be represented as a linear function of $PE_{pos}$.                                       \n",
    "                                                                                                                                                                                                                                                    \n",
    "We also experimented with using learned positional embeddings \\citep{JonasFaceNet2017} instead, and found that the two versions produced nearly identical results (see Table~\\ref{tab:variations} row (E)).  We chose the sinusoidal version because it may allow the model to extrapolate to sequence lengths longer than the ones encountered during training.    "
   ]
  },
  {
   "cell_type": "code",
   "execution_count": 10,
   "metadata": {
    "collapsed": true
   },
   "outputs": [],
   "source": [
    "# Positional Encodings\n",
    "class PositionalEncoding(nn.Module):\n",
    "    def __init__(self, dropout, dim, max_len=5000):\n",
    "        pe = torch.zeros(max_len, dim)\n",
    "        position = torch.arange(0, max_len).unsqueeze(1)\n",
    "        div_term = torch.exp(torch.arange(0, dim, 2) *\n",
    "                             -(math.log(10000.0) / dim))\n",
    "        pe[:, 0::2] = torch.sin(position * div_term)\n",
    "        pe[:, 1::2] = torch.cos(position * div_term)\n",
    "        pe = pe.unsqueeze(1)\n",
    "        super(PositionalEncoding, self).__init__()\n",
    "        self.register_buffer('pe', pe)\n",
    "        self.dropout = nn.Dropout(p=dropout)\n",
    "        self.dim = dim\n",
    "\n",
    "    def forward(self, emb):\n",
    "        # We must wrap the self.pe in Variable to compute, not the other\n",
    "        # way - unwrap emb(i.e. emb.data). Otherwise the computation\n",
    "        # wouldn't be watched to build the compute graph.\n",
    "        emb = emb * math.sqrt(self.dim)\n",
    "        emb = emb + Variable(self.pe[:emb.size(0)], requires_grad=False)\n",
    "        return self.dropout(emb)"
   ]
  },
  {
   "cell_type": "markdown",
   "metadata": {},
   "source": [
    "# Training\n",
    "\n",
    "This section describes the training regime for our models.\n"
   ]
  },
  {
   "cell_type": "markdown",
   "metadata": {},
   "source": [
    "## Training Data and Batching\n",
    "\n",
    "We trained on the standard WMT 2014 English-German dataset consisting of about 4.5 million sentence pairs.  Sentences were encoded using byte-pair encoding \\citep{DBLP:journals/corr/BritzGLL17}, which has a shared source-target vocabulary of about 37000 tokens. For English-French, we used the significantly larger \n",
    "WMT 2014 English-French dataset consisting of 36M sentences and split tokens into a 32000 word-piece vocabulary \\citep{wu2016google}.  Sentence pairs were batched together by approximate sequence length.  Each training batch contained a set of sentence pairs containing approximately 25000 source tokens and 25000 target tokens.     "
   ]
  },
  {
   "cell_type": "code",
   "execution_count": 13,
   "metadata": {
    "collapsed": true
   },
   "outputs": [],
   "source": [
    "# Specialized batching\n",
    "\n",
    "# Batching by tokens. \n",
    "global max_src_in_batch, max_tgt_in_batch\n",
    "\n",
    "def batch_size_fn(new, count, sofar):\n",
    "    global max_src_in_batch, max_tgt_in_batch\n",
    "    if count == 1:\n",
    "        max_src_in_batch = 0\n",
    "        max_tgt_in_batch = 0\n",
    "    max_src_in_batch = max(max_src_in_batch,  len(new.src) + 2)\n",
    "    max_tgt_in_batch = max(max_tgt_in_batch,  len(new.tgt) + 1)\n",
    "    src_elements = count * max_src_in_batch\n",
    "    tgt_elements = count * max_tgt_in_batch\n",
    "    return max(src_elements, tgt_elements)"
   ]
  },
  {
   "cell_type": "markdown",
   "metadata": {},
   "source": [
    "## Hardware and Schedule                                                                                                                                                                                                   \n",
    "We trained our models on one machine with 8 NVIDIA P100 GPUs.  For our base models using the hyperparameters described throughout the paper, each training step took about 0.4 seconds.  We trained the base models for a total of 100,000 steps or 12 hours.  For our big models,(described on the bottom line of table \\r\\\n",
    "ef{tab:variations}), step time was 1.0 seconds.  The big models were trained for 300,000 steps (3.5 days)."
   ]
  },
  {
   "cell_type": "markdown",
   "metadata": {},
   "source": [
    "## Optimizer\n",
    "\n",
    "We used the Adam optimizer~\\citep{kingma2014adam} with $\\beta_1=0.9$, $\\beta_2=0.98$ and $\\epsilon=10^{-9}$.  We varied the learning rate over the course of training, according to the formula:                                                                                            \n",
    "$$                                                                                                                                                                                                                                                                                         \n",
    "lrate = d_{\\text{model}}^{-0.5} \\cdot                                                                                                                                                                                                                                                                                                \n",
    "  \\min({step\\_num}^{-0.5},                                                                                                                                                                                                                                                                                                  \n",
    "    {step\\_num} \\cdot {warmup\\_steps}^{-1.5})                                                                                                                                                                                                                                                                               \n",
    "$$                                                                                                                                                                                             \n",
    "This corresponds to increasing the learning rate linearly for the first $warmup\\_steps$ training steps, and decreasing it thereafter proportionally to the inverse square root of the step number.  We used $warmup\\_steps=4000$.                            "
   ]
  },
  {
   "cell_type": "code",
   "execution_count": null,
   "metadata": {
    "collapsed": true
   },
   "outputs": [],
   "source": []
  },
  {
   "cell_type": "code",
   "execution_count": 16,
   "metadata": {
    "collapsed": false
   },
   "outputs": [],
   "source": [
    "# Adam Optimizer\n",
    "def rate(step, model_size, factor, warmup):\n",
    "    return factor * \\\n",
    "        (model_size ** (-0.5) *\n",
    "        min(step ** (-0.5),\n",
    "            step * warmup_steps**(-1.5)))"
   ]
  },
  {
   "cell_type": "markdown",
   "metadata": {},
   "source": [
    "## Regularization                                                                                                                                                                                                                                                                                                                         \n",
    "We employ three types of regularization during training:                                                                                                                                                                                                                                                                    \n",
    "### Residual Dropout\n",
    "\n",
    " We apply dropout \\citep{srivastava2014dropout} to the output of each sub-layer, before it is added to the sub-layer input and normalized.   In addition, we apply dropout to the sums of the embeddings and the positional encodings in both the encoder and decoder stacks.  For the base model, we use a rate of $P_{drop}=0.1$.                                                                                                                                                                                                                                                                                                                        \n",
    "### Label Smoothing\n",
    "\n",
    "During training, we employed label smoothing of value $\\epsilon_{ls}=0.1$ \\citep{DBLP:journals/corr/SzegedyVISW15}.  This hurts perplexity, as the model learns to be more unsure, but improves accuracy and BLEU score.  "
   ]
  },
  {
   "cell_type": "code",
   "execution_count": 17,
   "metadata": {
    "collapsed": false
   },
   "outputs": [
    {
     "ename": "NameError",
     "evalue": "name 'LossComputeBase' is not defined",
     "output_type": "error",
     "traceback": [
      "\u001b[0;31m---------------------------------------------------------------------------\u001b[0m",
      "\u001b[0;31mNameError\u001b[0m                                 Traceback (most recent call last)",
      "\u001b[0;32m<ipython-input-17-e74add77d1c2>\u001b[0m in \u001b[0;36m<module>\u001b[0;34m()\u001b[0m\n\u001b[1;32m      3\u001b[0m \u001b[0;34m\u001b[0m\u001b[0m\n\u001b[1;32m      4\u001b[0m \u001b[0;31m# Loss\u001b[0m\u001b[0;34m\u001b[0m\u001b[0;34m\u001b[0m\u001b[0m\n\u001b[0;32m----> 5\u001b[0;31m \u001b[0;32mclass\u001b[0m \u001b[0mNMTLossCompute\u001b[0m\u001b[0;34m(\u001b[0m\u001b[0mLossComputeBase\u001b[0m\u001b[0;34m)\u001b[0m\u001b[0;34m:\u001b[0m\u001b[0;34m\u001b[0m\u001b[0m\n\u001b[0m\u001b[1;32m      6\u001b[0m     \"\"\"\n\u001b[1;32m      7\u001b[0m     \u001b[0mStandard\u001b[0m \u001b[0mNMT\u001b[0m \u001b[0mLoss\u001b[0m \u001b[0mComputation\u001b[0m\u001b[0;34m.\u001b[0m\u001b[0;34m\u001b[0m\u001b[0m\n",
      "\u001b[0;31mNameError\u001b[0m: name 'LossComputeBase' is not defined"
     ]
    }
   ],
   "source": [
    "# Dropout\n",
    "\n",
    "\n",
    "# Loss \n",
    "class LabelSmoothing(nn.Criterion):\n",
    "    def __init__(self, generator, tgt_vocab, normalization=\"sents\",\n",
    "                 label_smoothing=0.0):\n",
    "        super(NMTLossCompute, self).__init__(generator, tgt_vocab)\n",
    "        assert (label_smoothing >= 0.0 and label_smoothing <= 1.0)\n",
    "        if label_smoothing > 0:\n",
    "            # When label smoothing is turned on,\n",
    "            # KL-divergence between q_{smoothed ground truth prob.}(w)\n",
    "            # and p_{prob. computed by model}(w) is minimized.\n",
    "            # If label smoothing value is set to zero, the loss\n",
    "            # is equivalent to NLLLoss or CrossEntropyLoss.\n",
    "            # All non-true labels are uniformly set to low-confidence.\n",
    "            self.criterion = nn.KLDivLoss(size_average=False)\n",
    "            one_hot = torch.randn(1, len(tgt_vocab))\n",
    "            one_hot.fill_(label_smoothing / (len(tgt_vocab) - 2))\n",
    "            one_hot[0][self.padding_idx] = 0\n",
    "            self.register_buffer('one_hot', one_hot)\n",
    "        else:\n",
    "            weight = torch.ones(len(tgt_vocab))\n",
    "            weight[self.padding_idx] = 0\n",
    "            self.criterion = nn.NLLLoss(weight, size_average=False)\n",
    "        self.confidence = 1.0 - label_smoothing\n",
    "\n",
    "    def forward(self, batch, output, target):\n",
    "        scores = self.generator(self._bottle(output))\n",
    "\n",
    "        gtruth = target.view(-1)\n",
    "        if self.confidence < 1:\n",
    "            tdata = gtruth.data\n",
    "            mask = torch.nonzero(tdata.eq(self.padding_idx)).squeeze()\n",
    "            log_likelihood = torch.gather(scores.data, 1, tdata.unsqueeze(1))\n",
    "            tmp_ = self.one_hot.repeat(gtruth.size(0), 1)\n",
    "            tmp_.scatter_(1, tdata.unsqueeze(1), self.confidence)\n",
    "            if mask.dim() > 0:\n",
    "                log_likelihood.index_fill_(0, mask, 0)\n",
    "                tmp_.index_fill_(0, mask, 0)\n",
    "            gtruth = Variable(tmp_, requires_grad=False)\n",
    "        loss = self.criterion(scores, gtruth)\n",
    "        if self.confidence < 1:\n",
    "            # Default: report smoothed ppl.\n",
    "            # loss_data = -log_likelihood.sum(0)\n",
    "            loss_data = loss.data.clone()\n",
    "        else:\n",
    "            loss_data = loss.data.clone()\n",
    "\n",
    "        stats = self._stats(loss_data, scores.data, target.view(-1).data)\n",
    "\n",
    "        return loss, stats\n"
   ]
  }
 ],
 "metadata": {
  "kernelspec": {
   "display_name": "IPython (Python 3)",
   "language": "python",
   "name": "python3"
  },
  "language_info": {
   "codemirror_mode": {
    "name": "ipython",
    "version": 3
   },
   "file_extension": ".py",
   "mimetype": "text/x-python",
   "name": "python",
   "nbconvert_exporter": "python",
   "pygments_lexer": "ipython3",
   "version": "3.5.2"
  }
 },
 "nbformat": 4,
 "nbformat_minor": 2
}
